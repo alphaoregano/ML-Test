{
 "cells": [
  {
   "cell_type": "code",
   "execution_count": 1,
   "id": "f4bfce9d",
   "metadata": {},
   "outputs": [],
   "source": [
    "import pandas as pd"
   ]
  },
  {
   "cell_type": "code",
   "execution_count": 92,
   "id": "f21d4f2d",
   "metadata": {},
   "outputs": [],
   "source": [
    "data = pd.read_csv(\"C:/Users/Usaid/Downloads/Data.csv\")"
   ]
  },
  {
   "cell_type": "code",
   "execution_count": 93,
   "id": "af6bb8bc",
   "metadata": {},
   "outputs": [],
   "source": [
    "#    Descriptive Statistics "
   ]
  },
  {
   "cell_type": "code",
   "execution_count": 94,
   "id": "02395ecd",
   "metadata": {
    "scrolled": true
   },
   "outputs": [
    {
     "name": "stdout",
     "output_type": "stream",
     "text": [
      "Data Header \n",
      " <bound method NDFrame.head of       surface  rooms_new  zipcode_new  price_new   latitude  longitude\n",
      "0       138.0        4.0         1060     420000  40.804673 -73.963420\n",
      "1       130.0        5.0         1087     550000  52.355590   5.000561\n",
      "2       116.0        5.0         1061     425000  52.373044   4.837568\n",
      "3        92.0        5.0         1035     349511  52.416895   4.906767\n",
      "4       127.0        4.0         1013    1050000  52.396789   4.876607\n",
      "...       ...        ...          ...        ...        ...        ...\n",
      "2177     12.0        NaN         1019      40000  52.372858   4.938828\n",
      "2178     12.0        NaN         1019      40000  52.372858   4.938828\n",
      "2179     12.0        NaN         1019      40000  52.372858   4.938828\n",
      "2180     12.0        NaN         1019      40000  52.372858   4.938828\n",
      "2181     64.0        2.0         1025     211000  52.399622   4.936959\n",
      "\n",
      "[2182 rows x 6 columns]>\n"
     ]
    }
   ],
   "source": [
    "print(\"Data Header \\n\" , data.head)"
   ]
  },
  {
   "cell_type": "code",
   "execution_count": 95,
   "id": "09a31b69",
   "metadata": {},
   "outputs": [
    {
     "name": "stdout",
     "output_type": "stream",
     "text": [
      "No of missing records \n"
     ]
    },
    {
     "data": {
      "text/plain": [
       "surface         0\n",
       "rooms_new      28\n",
       "zipcode_new     0\n",
       "price_new       0\n",
       "latitude        0\n",
       "longitude       0\n",
       "dtype: int64"
      ]
     },
     "execution_count": 95,
     "metadata": {},
     "output_type": "execute_result"
    }
   ],
   "source": [
    "print(\"No of missing records \")\n",
    "data.isnull().sum()"
   ]
  },
  {
   "cell_type": "code",
   "execution_count": 96,
   "id": "7c383032",
   "metadata": {},
   "outputs": [],
   "source": [
    "data = data.dropna()"
   ]
  },
  {
   "cell_type": "code",
   "execution_count": 97,
   "id": "89c5e1d2",
   "metadata": {},
   "outputs": [
    {
     "name": "stdout",
     "output_type": "stream",
     "text": [
      "No of missing records \n"
     ]
    },
    {
     "data": {
      "text/plain": [
       "surface        0\n",
       "rooms_new      0\n",
       "zipcode_new    0\n",
       "price_new      0\n",
       "latitude       0\n",
       "longitude      0\n",
       "dtype: int64"
      ]
     },
     "execution_count": 97,
     "metadata": {},
     "output_type": "execute_result"
    }
   ],
   "source": [
    "print(\"No of missing records \")\n",
    "data.isnull().sum()"
   ]
  },
  {
   "cell_type": "code",
   "execution_count": 98,
   "id": "7ed17add",
   "metadata": {},
   "outputs": [
    {
     "name": "stdout",
     "output_type": "stream",
     "text": [
      "No of Rows and columns\n"
     ]
    },
    {
     "data": {
      "text/plain": [
       "(2154, 6)"
      ]
     },
     "execution_count": 98,
     "metadata": {},
     "output_type": "execute_result"
    }
   ],
   "source": [
    "print(\"No of Rows and columns\")\n",
    "data.shape"
   ]
  },
  {
   "cell_type": "code",
   "execution_count": 99,
   "id": "2b4dcb57",
   "metadata": {},
   "outputs": [
    {
     "name": "stdout",
     "output_type": "stream",
     "text": [
      "Data types of the columns\n"
     ]
    },
    {
     "data": {
      "text/plain": [
       "surface        float64\n",
       "rooms_new      float64\n",
       "zipcode_new      int64\n",
       "price_new        int64\n",
       "latitude       float64\n",
       "longitude      float64\n",
       "dtype: object"
      ]
     },
     "execution_count": 99,
     "metadata": {},
     "output_type": "execute_result"
    }
   ],
   "source": [
    "print(\"Data types of the columns\")\n",
    "data.dtypes"
   ]
  },
  {
   "cell_type": "code",
   "execution_count": 100,
   "id": "98c7f071",
   "metadata": {},
   "outputs": [
    {
     "name": "stdout",
     "output_type": "stream",
     "text": [
      "Unique values of column surface\n"
     ]
    },
    {
     "data": {
      "text/plain": [
       "284"
      ]
     },
     "execution_count": 100,
     "metadata": {},
     "output_type": "execute_result"
    }
   ],
   "source": [
    "print(\"Unique values of column surface\")\n",
    "data['surface'].nunique()"
   ]
  },
  {
   "cell_type": "code",
   "execution_count": 101,
   "id": "44e3359e",
   "metadata": {},
   "outputs": [
    {
     "name": "stdout",
     "output_type": "stream",
     "text": [
      "Unique values of column zipcode\n"
     ]
    },
    {
     "data": {
      "text/plain": [
       "72"
      ]
     },
     "execution_count": 101,
     "metadata": {},
     "output_type": "execute_result"
    }
   ],
   "source": [
    "print(\"Unique values of column zipcode\")\n",
    "data['zipcode_new'].nunique()"
   ]
  },
  {
   "cell_type": "code",
   "execution_count": 102,
   "id": "e7098673",
   "metadata": {},
   "outputs": [
    {
     "name": "stdout",
     "output_type": "stream",
     "text": [
      "Dataset Columns\n"
     ]
    },
    {
     "data": {
      "text/plain": [
       "Index(['surface', 'rooms_new', 'zipcode_new', 'price_new', 'latitude',\n",
       "       'longitude'],\n",
       "      dtype='object')"
      ]
     },
     "execution_count": 102,
     "metadata": {},
     "output_type": "execute_result"
    }
   ],
   "source": [
    "print(\"Dataset Columns\")\n",
    "data.columns"
   ]
  },
  {
   "cell_type": "code",
   "execution_count": 103,
   "id": "cff01670",
   "metadata": {},
   "outputs": [
    {
     "name": "stdout",
     "output_type": "stream",
     "text": [
      "Data description\n"
     ]
    },
    {
     "data": {
      "text/html": [
       "<div>\n",
       "<style scoped>\n",
       "    .dataframe tbody tr th:only-of-type {\n",
       "        vertical-align: middle;\n",
       "    }\n",
       "\n",
       "    .dataframe tbody tr th {\n",
       "        vertical-align: top;\n",
       "    }\n",
       "\n",
       "    .dataframe thead th {\n",
       "        text-align: right;\n",
       "    }\n",
       "</style>\n",
       "<table border=\"1\" class=\"dataframe\">\n",
       "  <thead>\n",
       "    <tr style=\"text-align: right;\">\n",
       "      <th></th>\n",
       "      <th>surface</th>\n",
       "      <th>rooms_new</th>\n",
       "      <th>zipcode_new</th>\n",
       "      <th>price_new</th>\n",
       "      <th>latitude</th>\n",
       "      <th>longitude</th>\n",
       "    </tr>\n",
       "  </thead>\n",
       "  <tbody>\n",
       "    <tr>\n",
       "      <th>count</th>\n",
       "      <td>2154.000000</td>\n",
       "      <td>2154.000000</td>\n",
       "      <td>2154.000000</td>\n",
       "      <td>2.154000e+03</td>\n",
       "      <td>2154.000000</td>\n",
       "      <td>2154.000000</td>\n",
       "    </tr>\n",
       "    <tr>\n",
       "      <th>mean</th>\n",
       "      <td>108.718199</td>\n",
       "      <td>3.662024</td>\n",
       "      <td>1057.665274</td>\n",
       "      <td>6.033901e+05</td>\n",
       "      <td>52.067192</td>\n",
       "      <td>2.877367</td>\n",
       "    </tr>\n",
       "    <tr>\n",
       "      <th>std</th>\n",
       "      <td>69.487969</td>\n",
       "      <td>1.556783</td>\n",
       "      <td>29.065517</td>\n",
       "      <td>6.198875e+05</td>\n",
       "      <td>1.823711</td>\n",
       "      <td>12.441474</td>\n",
       "    </tr>\n",
       "    <tr>\n",
       "      <th>min</th>\n",
       "      <td>10.000000</td>\n",
       "      <td>0.000000</td>\n",
       "      <td>1011.000000</td>\n",
       "      <td>2.250000e+04</td>\n",
       "      <td>40.803320</td>\n",
       "      <td>-73.963962</td>\n",
       "    </tr>\n",
       "    <tr>\n",
       "      <th>25%</th>\n",
       "      <td>65.000000</td>\n",
       "      <td>3.000000</td>\n",
       "      <td>1025.000000</td>\n",
       "      <td>2.900000e+05</td>\n",
       "      <td>52.351124</td>\n",
       "      <td>4.854486</td>\n",
       "    </tr>\n",
       "    <tr>\n",
       "      <th>50%</th>\n",
       "      <td>92.000000</td>\n",
       "      <td>3.000000</td>\n",
       "      <td>1061.000000</td>\n",
       "      <td>4.000000e+05</td>\n",
       "      <td>52.361286</td>\n",
       "      <td>4.885109</td>\n",
       "    </tr>\n",
       "    <tr>\n",
       "      <th>75%</th>\n",
       "      <td>130.000000</td>\n",
       "      <td>4.000000</td>\n",
       "      <td>1079.000000</td>\n",
       "      <td>6.850000e+05</td>\n",
       "      <td>52.373386</td>\n",
       "      <td>4.918091</td>\n",
       "    </tr>\n",
       "    <tr>\n",
       "      <th>max</th>\n",
       "      <td>690.000000</td>\n",
       "      <td>9.000000</td>\n",
       "      <td>1109.000000</td>\n",
       "      <td>6.400000e+06</td>\n",
       "      <td>52.423834</td>\n",
       "      <td>5.014093</td>\n",
       "    </tr>\n",
       "  </tbody>\n",
       "</table>\n",
       "</div>"
      ],
      "text/plain": [
       "           surface    rooms_new  zipcode_new     price_new     latitude  \\\n",
       "count  2154.000000  2154.000000  2154.000000  2.154000e+03  2154.000000   \n",
       "mean    108.718199     3.662024  1057.665274  6.033901e+05    52.067192   \n",
       "std      69.487969     1.556783    29.065517  6.198875e+05     1.823711   \n",
       "min      10.000000     0.000000  1011.000000  2.250000e+04    40.803320   \n",
       "25%      65.000000     3.000000  1025.000000  2.900000e+05    52.351124   \n",
       "50%      92.000000     3.000000  1061.000000  4.000000e+05    52.361286   \n",
       "75%     130.000000     4.000000  1079.000000  6.850000e+05    52.373386   \n",
       "max     690.000000     9.000000  1109.000000  6.400000e+06    52.423834   \n",
       "\n",
       "         longitude  \n",
       "count  2154.000000  \n",
       "mean      2.877367  \n",
       "std      12.441474  \n",
       "min     -73.963962  \n",
       "25%       4.854486  \n",
       "50%       4.885109  \n",
       "75%       4.918091  \n",
       "max       5.014093  "
      ]
     },
     "execution_count": 103,
     "metadata": {},
     "output_type": "execute_result"
    }
   ],
   "source": [
    "print(\"Data description\")\n",
    "data.describe()"
   ]
  },
  {
   "cell_type": "code",
   "execution_count": 62,
   "id": "cb217d4f",
   "metadata": {},
   "outputs": [],
   "source": [
    "#     Exploratory data analysis"
   ]
  },
  {
   "cell_type": "code",
   "execution_count": 26,
   "id": "f1fcbb47",
   "metadata": {},
   "outputs": [],
   "source": [
    "import seaborn as sns"
   ]
  },
  {
   "cell_type": "code",
   "execution_count": 104,
   "id": "60d04f5c",
   "metadata": {},
   "outputs": [
    {
     "name": "stderr",
     "output_type": "stream",
     "text": [
      "C:\\Users\\Usaid\\AppData\\Local\\Temp\\ipykernel_15080\\2589817454.py:1: UserWarning: \n",
      "\n",
      "`distplot` is a deprecated function and will be removed in seaborn v0.14.0.\n",
      "\n",
      "Please adapt your code to use either `displot` (a figure-level function with\n",
      "similar flexibility) or `histplot` (an axes-level function for histograms).\n",
      "\n",
      "For a guide to updating your code to use the new functions, please see\n",
      "https://gist.github.com/mwaskom/de44147ed2974457ad6372750bbe5751\n",
      "\n",
      "  sns.distplot(x=data[\"surface\"])\n"
     ]
    },
    {
     "data": {
      "text/plain": [
       "<Axes: ylabel='Density'>"
      ]
     },
     "execution_count": 104,
     "metadata": {},
     "output_type": "execute_result"
    },
    {
     "data": {
      "image/png": "[encoded data removed]",
      "text/plain": [
       "<Figure size 640x480 with 1 Axes>"
      ]
     },
     "metadata": {},
     "output_type": "display_data"
    }
   ],
   "source": [
    "sns.distplot(x=data[\"surface\"])"
   ]
  },
  {
   "cell_type": "code",
   "execution_count": 106,
   "id": "6e2a058c",
   "metadata": {},
   "outputs": [
    {
     "name": "stderr",
     "output_type": "stream",
     "text": [
      "C:\\Users\\Usaid\\AppData\\Local\\Temp\\ipykernel_15080\\3869538287.py:1: UserWarning: \n",
      "\n",
      "`distplot` is a deprecated function and will be removed in seaborn v0.14.0.\n",
      "\n",
      "Please adapt your code to use either `displot` (a figure-level function with\n",
      "similar flexibility) or `histplot` (an axes-level function for histograms).\n",
      "\n",
      "For a guide to updating your code to use the new functions, please see\n",
      "https://gist.github.com/mwaskom/de44147ed2974457ad6372750bbe5751\n",
      "\n",
      "  sns.distplot(x=data[\"price_new\"])\n"
     ]
    },
    {
     "data": {
      "text/plain": [
       "<Axes: ylabel='Density'>"
      ]
     },
     "execution_count": 106,
     "metadata": {},
     "output_type": "execute_result"
    },
    {
     "data": {
      "image/png": "[encoded data removed]",
      "text/plain": [
       "<Figure size 640x480 with 1 Axes>"
      ]
     },
     "metadata": {},
     "output_type": "display_data"
    }
   ],
   "source": [
    "sns.distplot(x=data[\"price_new\"])"
   ]
  },
  {
   "cell_type": "code",
   "execution_count": 107,
   "id": "d5fb7c0e",
   "metadata": {},
   "outputs": [
    {
     "data": {
      "text/plain": [
       "<Axes: xlabel='surface', ylabel='price_new'>"
      ]
     },
     "execution_count": 107,
     "metadata": {},
     "output_type": "execute_result"
    },
    {
     "data": {
      "image/png": "[encoded data removed]",
      "text/plain": [
       "<Figure size 640x480 with 1 Axes>"
      ]
     },
     "metadata": {},
     "output_type": "display_data"
    }
   ],
   "source": [
    "sns.scatterplot(x=data[\"surface\"],y=data[\"price_new\"])"
   ]
  },
  {
   "cell_type": "code",
   "execution_count": 108,
   "id": "d4bb93cc",
   "metadata": {},
   "outputs": [],
   "source": [
    "#      ML multi regression model"
   ]
  },
  {
   "cell_type": "code",
   "execution_count": 113,
   "id": "11054efd",
   "metadata": {},
   "outputs": [],
   "source": [
    "from sklearn.linear_model import LinearRegression\n",
    "from sklearn.model_selection import train_test_split"
   ]
  },
  {
   "cell_type": "code",
   "execution_count": 121,
   "id": "bea65e08",
   "metadata": {},
   "outputs": [],
   "source": [
    "# multi variable dependancy\n",
    "X = data[['surface', 'rooms_new']]\n",
    "y = data['price_new']"
   ]
  },
  {
   "cell_type": "code",
   "execution_count": 122,
   "id": "0a4777a2",
   "metadata": {},
   "outputs": [],
   "source": [
    "# splitting the data\n",
    "X_train, X_test, y_train, y_test = train_test_split(X,y,test_size=0.2)"
   ]
  },
  {
   "cell_type": "code",
   "execution_count": 131,
   "id": "14233583",
   "metadata": {},
   "outputs": [],
   "source": [
    "# training the model\n",
    "model_mr = LinearRegression()\n",
    "model_train = model_mr.fit(X_train,y_train)\n",
    "pred_mr = model_mr.predict(X_test)"
   ]
  },
  {
   "cell_type": "code",
   "execution_count": 132,
   "id": "675dcd9c",
   "metadata": {},
   "outputs": [
    {
     "name": "stdout",
     "output_type": "stream",
     "text": [
      "[ 866865.02148417  371282.45545841  718190.25167644  222607.68565068\n",
      "  227081.86143641  518064.45844212  934835.46377829  765855.741455\n",
      "  519957.22526614 1265223.8411288   586034.90073624  736602.43736799\n",
      "  270273.17542924  792527.63658031 2447050.93229456  187676.08109161\n",
      " 1173678.39521972  575882.42447846  195935.79052537  189568.84791563\n",
      "  344610.5603331    20589.12559234  852238.36944066  420840.71206099\n",
      "  451986.78297202   84774.03423842  338243.61772336  511697.51583238\n",
      "  235341.57087017  575882.42447846  179416.37165785  202302.73313512\n",
      "  171156.66222409  195935.79052537  204195.49995914  666739.22824985\n",
      "  243601.28030393  592401.84334598  655898.10985438  474873.14444929\n",
      " 1182626.74679117  774115.45088876  344610.5603331   115231.46301177\n",
      "  204195.49995914  127965.34823126  794420.40340433  227081.86143641\n",
      "  501545.0395746   262013.46599548  154637.24335656  804572.87966211\n",
      "  152744.47653254  654005.34303036  171156.66222409  245494.04712795\n",
      "  389694.64114995  103186.21992997  491392.56331681  154637.24335656\n",
      "  412581.00262722 2931103.73778716  435467.36410449  134332.290841\n",
      "  542843.58674341  385909.10750192  451986.78297202  313464.48942207\n",
      " 1199146.1656587  1948198.31516939  685151.41394139  451986.78297202\n",
      "  753121.85623551  453879.54979604  195935.79052537  136225.05766502\n",
      " 2082246.43293362  154637.24335656  396061.5837597   185783.31426759\n",
      "  144484.76709878  623547.91425702   35215.77763585  697885.29916088\n",
      "  194043.02370136  402428.52636944  435467.36410449 2260174.50682836\n",
      "  109553.16253971  559363.00561093  460246.49240578  815413.99805758\n",
      " 1272794.90842487 1011065.61550617  544736.35356743  774115.45088876\n",
      "  552996.06300119  528216.9346999   586034.90073624  485025.62070707\n",
      "  767748.50827902 1100029.65245355  274747.35121497  235341.57087017\n",
      "  350977.50294285 3170635.31136628  582249.3670882   833826.18374912\n",
      " 1886594.81548502  476765.91127331  997127.60560036  212455.2093929\n",
      "  511697.51583238  774115.45088876  728342.72793422  513590.28265639\n",
      "  379542.16489217  922101.5785588   561255.77243495  311571.72259805\n",
      "  616492.32950958 1277269.0842106   734709.67054397  195935.79052537\n",
      "  317938.6652078    61887.67276115  569515.48186871  338243.61772336\n",
      "  561255.77243495  253753.75656171  528216.9346999  2718932.70147104\n",
      "  480551.44492134  412581.00262722  949462.1158218   127965.34823126\n",
      "  402428.52636944  462139.2592298   397954.35058372  210562.44256888\n",
      "  162896.95279032  711823.3090667   154637.24335656  852238.36944066\n",
      "  534583.87730965  468506.20183954  676891.70450763  660372.2856401\n",
      "  559363.00561093  435467.36410449  559363.00561093 1541579.786091\n",
      "  519957.22526614  311571.72259805  920208.81173478  445619.84036227\n",
      "  885277.20717572  503437.80639861  235341.57087017  538369.41095768\n",
      "  295052.30373053 1039630.2774555   301419.24634027  379542.16489217\n",
      "  584142.13391222  842085.89318288   37108.54445987  154637.24335656\n",
      "  276640.11803898  592401.84334598 1510433.71517997  753121.85623551\n",
      "  806465.64648612  396061.5837597   354763.03659088  394168.81693568\n",
      "  559363.00561093  569515.48186871  218822.15200265  511697.51583238\n",
      " 1754439.46454482  117812.87197348  152744.47653254  877017.49774195\n",
      " 2509858.55666526  819199.53170561  194043.02370136  194043.02370136\n",
      "  239127.10451821  552996.06300119 1093662.7098438   685151.41394139\n",
      "   70147.38219492 1368125.88798199  860498.07887443  608921.26221351\n",
      " 1194671.98987297  315357.25624609  627333.44790505 1145113.73327039\n",
      "  451986.78297202 1768377.47445063  328091.14146558  301419.24634027\n",
      "   78407.09162868  891644.14978546  260120.69917146  417055.17841295\n",
      "   86666.80106244  470398.96866356  235341.57087017 1614024.40417085\n",
      "  394168.81693568  359237.21237661  784267.92714654  418947.94523697\n",
      "  536476.64413366  660372.2856401   476765.91127331  404321.29319346\n",
      "  610814.02903753  673106.17085959  800787.34601407  242912.63816624\n",
      "  842085.89318288  410688.23580321  690829.71441345 1009172.84868216\n",
      "  245494.04712795   96819.27732022  910056.335477    311571.72259805\n",
      "  377649.39806815  685151.41394139  420840.71206099 1042900.3285549\n",
      "  460246.49240578   51735.19650337  152744.47653254  148270.30074682\n",
      " 2866403.34659244  584142.13391222  873231.96409392   78407.09162868\n",
      "   84774.03423842  453879.54979604  187676.08109161  328091.14146558\n",
      "  235341.57087017  212455.2093929  2460988.94220037  687044.18076541\n",
      "  377649.39806815  179416.37165785  647638.40042061  732128.26158226\n",
      "  379542.16489217  643852.86677258  346503.32715712  893536.91660948\n",
      " 2002919.38969539  228974.62826043  262013.46599548  685151.41394139\n",
      "  402428.52636944  483132.85388305  396061.5837597   903689.39286726\n",
      "  272165.94225326 1017432.55811592 1787478.30227987  295052.30373053\n",
      " 1227710.82760802  615288.20482326  103186.21992997  711823.3090667\n",
      " 1009172.84868216  807154.28862382  319831.43203182 1635017.9988241\n",
      " 1579781.44174947  354763.03659088 1913955.35274802  445619.84036227\n",
      "  177523.60483383  559363.00561093  402428.52636944 1603183.28577538\n",
      "  967874.30151334  295052.30373053  243601.28030393  251860.9897377\n",
      " 1661001.25181172  767748.50827902  462139.2592298   280425.65168702\n",
      " 2742507.705086    212455.2093929   652112.57620634  829352.00796339\n",
      "  284899.82747275  138117.82448904  845871.42683092  150851.70970853\n",
      "  880803.03138999  914530.51126273  162896.95279032  317938.6652078\n",
      "  850345.60261665  138117.82448904  336350.85089934  947569.34899778\n",
      "  600661.55277975  111445.92936373  600661.55277975  472291.73548758\n",
      " 1009172.84868216  394168.81693568  627333.44790505  668631.99507387\n",
      "  761381.56566927  959614.59207958  336350.85089934  983705.07824318\n",
      "  363022.74602465  344610.5603331   402428.52636944  352870.26976687\n",
      " 1052364.16267499  610814.02903753  589820.43438428  280425.65168702\n",
      "  293159.53690651  387801.87432594  501545.0395746   600661.55277975\n",
      "  364915.51284866  476765.91127331  228974.62826043  521849.99209016\n",
      "  194043.02370136  534583.87730965  408795.46897919  889062.74082375\n",
      "  519957.22526614 2132493.33167388  278532.884863    228974.62826043\n",
      " 2823727.51514824  751229.08941149  843978.6600069   994546.19663865\n",
      "  410688.23580321 1531427.30983322  433574.59728048  926575.75434453\n",
      " 1302048.21251189   61887.67276115  336350.85089934  317938.6652078\n",
      "  640067.33312454  493285.33014083  227081.86143641  540950.81991939\n",
      "  369389.68863439  210562.44256888  817306.7648816   453879.54979604\n",
      "  554200.18768752  451986.78297202  402428.52636944  375756.63124414\n",
      "  860498.07887443  414473.76945124  730235.49475824  594294.61017\n",
      "  901796.62604324 1389119.48263524  485025.62070707  819199.53170561\n",
      "  518064.45844212  542843.58674341  311571.72259805  319831.43203182\n",
      "  295052.30373053  980608.18673283  809047.05544783  551103.29617717\n",
      "  394168.81693568  319831.43203182  608921.26221351  716297.48485243\n",
      "  313464.48942207  800787.34601407  654005.34303036  260120.69917146\n",
      "  559363.00561093  260120.69917146  278532.884863    185783.31426759\n",
      "  943095.17321205  427207.65467073  171156.66222409  435467.36410449\n",
      "  286792.59429676  399847.11740773  460246.49240578  687044.18076541\n",
      "  470398.96866356   37108.54445987  889751.38296144  650219.80938232\n",
      "  513590.28265639 1145802.37540809  369389.68863439 1027585.0343737\n",
      "  460246.49240578  726449.96111021  439252.89775253  404321.29319346\n",
      "  868757.78830819  625440.68108104  210562.44256888  270273.17542924\n",
      "  288685.36112078  377649.39806815  394168.81693568  295052.30373053\n",
      "  161004.18596631  476765.91127331  103186.21992997]\n"
     ]
    }
   ],
   "source": [
    "print(pred_mr)"
   ]
  },
  {
   "cell_type": "code",
   "execution_count": 125,
   "id": "fc77e6d2",
   "metadata": {},
   "outputs": [],
   "source": [
    "#  ML KNN regression model"
   ]
  },
  {
   "cell_type": "code",
   "execution_count": 126,
   "id": "af9dc2c6",
   "metadata": {},
   "outputs": [],
   "source": [
    "from sklearn.neighbors import KNeighborsRegressor"
   ]
  },
  {
   "cell_type": "code",
   "execution_count": 134,
   "id": "b76c1b52",
   "metadata": {},
   "outputs": [],
   "source": [
    "# training knn model\n",
    "model_kn = KNeighborsRegressor(n_neighbors = 3)\n",
    "model_train = model_kn.fit(X_train,y_train)\n",
    "pred_kn = model_kn.predict(X_test)"
   ]
  },
  {
   "cell_type": "code",
   "execution_count": 135,
   "id": "eaf357ac",
   "metadata": {},
   "outputs": [
    {
     "name": "stdout",
     "output_type": "stream",
     "text": [
      "[ 729166.66666667  405000.          914333.33333333  400000.\n",
      "  281666.66666667  471000.          799166.66666667  584675.33333333\n",
      "  504666.66666667  790500.          600692.          406666.66666667\n",
      "  342500.          587666.66666667 1980000.          271333.33333333\n",
      "  970624.33333333  656666.66666667  248333.33333333  316666.66666667\n",
      "  426333.33333333  171666.66666667  781666.66666667  361666.66666667\n",
      "  454333.33333333  213549.33333333  291666.66666667  453000.\n",
      "  303333.33333333  656666.66666667  339666.66666667  304666.66666667\n",
      "  330500.          248333.33333333  244666.66666667  607500.\n",
      "  205500.          670000.          516333.33333333  414833.33333333\n",
      "  976666.66666667  843333.33333333  426333.33333333  313333.33333333\n",
      "  244666.66666667  259666.66666667  889666.66666667  281666.66666667\n",
      "  581666.66666667  356666.66666667  313333.33333333  489333.33333333\n",
      "  225000.          681000.          330500.          366000.\n",
      "  318666.66666667  227063.          533166.66666667  313333.33333333\n",
      "  298000.         3200000.          378166.66666667  260257.33333333\n",
      "  383166.66666667  373000.          454333.33333333  293333.33333333\n",
      " 1158333.33333333 2450000.          391333.33333333  454333.33333333\n",
      "  833000.          516000.          248333.33333333  259666.66666667\n",
      " 2526666.66666667  313333.33333333  303081.66666667  242666.66666667\n",
      "  253166.66666667  549666.66666667  191333.33333333  595833.33333333\n",
      "  279833.33333333  390000.          378166.66666667 2663333.33333333\n",
      "  210106.33333333  446666.66666667  523000.          791333.33333333\n",
      " 1333333.33333333  596333.33333333  354666.66666667  843333.33333333\n",
      "  636666.66666667  481000.          600692.          650000.\n",
      "  728000.         1063333.33333333  318333.33333333  303333.33333333\n",
      "  397500.         5030000.          383166.66666667  793000.\n",
      " 2183000.          451000.          848333.33333333  296666.66666667\n",
      "  453000.          843333.33333333  505000.          338330.\n",
      "  240000.          714333.33333333  460000.          328333.33333333\n",
      "  516333.33333333  900155.          552675.33333333  248333.33333333\n",
      "  381666.66666667  193333.33333333  485000.          291666.66666667\n",
      "  460000.          199666.66666667  481000.         2326666.66666667\n",
      "  346333.33333333  298000.          857704.66666667  259666.66666667\n",
      "  390000.          433333.33333333  398000.          323333.33333333\n",
      "  258333.33333333  712600.          313333.33333333  781666.66666667\n",
      "  337833.33333333  463988.          533333.33333333  739562.33333333\n",
      "  446666.66666667  378166.66666667  446666.66666667 1541228.33333333\n",
      "  504666.66666667  328333.33333333  611666.66666667  331666.66666667\n",
      "  966333.33333333  288333.33333333  303333.33333333  365000.\n",
      "  300961.         1308000.          207000.          240000.\n",
      "  549666.66666667  813000.          265500.          313333.33333333\n",
      "  324666.66666667  670000.         1597926.33333333  833000.\n",
      "  974666.66666667  303081.66666667  408333.33333333  348333.33333333\n",
      "  446666.66666667  485000.          280000.          453000.\n",
      " 1631666.66666667  215000.          225000.          796333.33333333\n",
      " 3958333.33333333  583333.33333333  279833.33333333  279833.33333333\n",
      "  375000.          636666.66666667 1176666.66666667  391333.33333333\n",
      "  200000.         1065833.33333333  781666.66666667  740000.\n",
      " 1228333.33333333  426000.          640331.66666667 1161129.33333333\n",
      "  454333.33333333 2633000.          290000.          207000.\n",
      "  236333.33333333  883399.66666667  199166.66666667  346000.\n",
      "  266666.66666667  263166.66666667  303333.33333333 1790000.\n",
      "  348333.33333333  315000.          933333.33333333  386666.66666667\n",
      "  316666.66666667  739562.33333333  451000.          344666.66666667\n",
      "  458333.33333333  496666.66666667  598763.          424666.66666667\n",
      "  813000.          291666.66666667  601666.66666667  711666.66666667\n",
      "  366000.          273333.33333333  857704.66666667  328333.33333333\n",
      "  296333.33333333  391333.33333333  361666.66666667 1026666.66666667\n",
      "  523000.          191333.33333333  225000.          329666.66666667\n",
      " 3800000.          549666.66666667  891333.33333333  236333.33333333\n",
      "  213549.33333333  516000.          271333.33333333  290000.\n",
      "  303333.33333333  296666.66666667 2458333.33333333  719333.33333333\n",
      "  296333.33333333  339666.66666667  573333.33333333  548000.\n",
      "  240000.          411666.66666667  341666.66666667  897666.66666667\n",
      " 2075000.          313000.          356666.66666667  391333.33333333\n",
      "  390000.          541500.          303081.66666667  625000.\n",
      "  391000.          661666.66666667 2631666.66666667  300961.\n",
      "  908333.33333333  656666.66666667  227063.          712600.\n",
      "  711666.66666667  931666.66666667  323000.         1782416.66666667\n",
      " 1623333.33333333  408333.33333333 2631666.66666667  331666.66666667\n",
      "  230000.          446666.66666667  390000.         1358333.33333333\n",
      "  900000.          300961.          205500.          481333.33333333\n",
      " 2631666.66666667  728000.          433333.33333333  341000.\n",
      " 2131666.66666667  296666.66666667  533333.33333333  790000.\n",
      "  228333.33333333  276666.66666667  698000.          234938.\n",
      "  765000.          856000.          258333.33333333  381666.66666667\n",
      "  796666.66666667  276666.66666667  498333.33333333  901666.66666667\n",
      "  589333.33333333  241666.66666667  589333.33333333  453000.\n",
      "  711666.66666667  348333.33333333  640331.66666667  418166.66666667\n",
      "  815666.66666667  850000.          498333.33333333  958000.\n",
      "  310000.          426333.33333333  390000.          225000.\n",
      "  878333.33333333  458333.33333333  558000.          341000.\n",
      "  294666.66666667  214500.          581666.66666667  589333.33333333\n",
      "  268333.33333333  451000.          313000.          484666.66666667\n",
      "  279833.33333333  337833.33333333  366333.33333333  723333.33333333\n",
      "  504666.66666667 2422666.66666667  300000.          313000.\n",
      " 3915000.          791666.66666667  489333.33333333  869666.66666667\n",
      "  291666.66666667  879852.          456333.33333333  829166.66666667\n",
      " 1069666.66666667  193333.33333333  498333.33333333  381666.66666667\n",
      "  589333.33333333  366333.33333333  281666.66666667  581666.66666667\n",
      "  474666.66666667  323333.33333333  979899.          516000.\n",
      "  791666.66666667  454333.33333333  390000.          498333.33333333\n",
      "  781666.66666667  371000.          630666.66666667  348000.\n",
      "  897666.66666667 1374666.66666667  650000.          583333.33333333\n",
      "  471000.          383166.66666667  328333.33333333  323000.\n",
      "  300961.          850000.          731096.33333333  491666.66666667\n",
      "  348333.33333333  323000.          740000.          818000.\n",
      "  293333.33333333  598763.          681000.          199166.66666667\n",
      "  446666.66666667  199166.66666667  300000.          242666.66666667\n",
      "  666666.66666667  379670.33333333  330500.          378166.66666667\n",
      "  388333.33333333  268833.33333333  523000.          719333.33333333\n",
      "  263166.66666667  265500.          978333.33333333  566500.\n",
      "  338330.         1325000.          474666.66666667  863333.33333333\n",
      "  523000.          554675.33333333  268833.33333333  344666.66666667\n",
      "  816333.33333333  466333.33333333  323333.33333333  342500.\n",
      "  288020.          296333.33333333  348333.33333333  300961.\n",
      "  316666.66666667  451000.          227063.        ]\n"
     ]
    }
   ],
   "source": [
    "print(pred_kn)"
   ]
  },
  {
   "cell_type": "code",
   "execution_count": 129,
   "id": "0b35d6ee",
   "metadata": {},
   "outputs": [],
   "source": [
    "# r2 score, Mean Squared Error and Root Mean Squared Error"
   ]
  },
  {
   "cell_type": "code",
   "execution_count": 130,
   "id": "333276d0",
   "metadata": {},
   "outputs": [],
   "source": [
    "from sklearn.metrics import r2_score, mean_squared_error\n",
    "from math import sqrt"
   ]
  },
  {
   "cell_type": "code",
   "execution_count": 140,
   "id": "f512bab1",
   "metadata": {},
   "outputs": [
    {
     "name": "stdout",
     "output_type": "stream",
     "text": [
      "Multiple and KNN regression R2\n",
      "0.7088469336164074 , 0.6674850744670389\n"
     ]
    }
   ],
   "source": [
    "print(\"Multiple and KNN regression R2\")\n",
    "print(r2_score(y_test,pred_mr) ,',', r2_score(y_test,pred_kn))"
   ]
  },
  {
   "cell_type": "code",
   "execution_count": 143,
   "id": "2746b5ce",
   "metadata": {},
   "outputs": [
    {
     "name": "stdout",
     "output_type": "stream",
     "text": [
      "Multiple and KNN regression mean squared error\n",
      "99939058646.3642 , 114136625989.87729\n"
     ]
    }
   ],
   "source": [
    "print(\"Multiple and KNN regression mean squared error\")\n",
    "print(mean_squared_error(y_test,pred_mr) ,',', mean_squared_error(y_test,pred_kn))"
   ]
  },
  {
   "cell_type": "code",
   "execution_count": 147,
   "id": "6a820bbd",
   "metadata": {},
   "outputs": [
    {
     "name": "stdout",
     "output_type": "stream",
     "text": [
      "Multiple and KNN regression Root mean squared error\n",
      "316131.3945914961 , 337841.1253679417\n"
     ]
    }
   ],
   "source": [
    "print(\"Multiple and KNN regression Root mean squared error\")\n",
    "print(sqrt(mean_squared_error(y_test,pred_mr)) ,',', sqrt(mean_squared_error(y_test,pred_kn)))"
   ]
  },
  {
   "cell_type": "code",
   "execution_count": 148,
   "id": "efc1ed30",
   "metadata": {},
   "outputs": [
    {
     "data": {
      "text/plain": [
       "['mr_model.sav']"
      ]
     },
     "execution_count": 148,
     "metadata": {},
     "output_type": "execute_result"
    }
   ],
   "source": [
    "# saving the Multiple regression model\n",
    "import joblib\n",
    "joblib.dump(model_mr,'mr_model.sav')"
   ]
  },
  {
   "cell_type": "code",
   "execution_count": null,
   "id": "6d7e16d9",
   "metadata": {},
   "outputs": [],
   "source": []
  }
 ],
 "metadata": {
  "kernelspec": {
   "display_name": "Python 3 (ipykernel)",
   "language": "python",
   "name": "python3"
  },
  "language_info": {
   "codemirror_mode": {
    "name": "ipython",
    "version": 3
   },
   "file_extension": ".py",
   "mimetype": "text/x-python",
   "name": "python",
   "nbconvert_exporter": "python",
   "pygments_lexer": "ipython3",
   "version": "3.11.5"
  }
 },
 "nbformat": 4,
 "nbformat_minor": 5
}
