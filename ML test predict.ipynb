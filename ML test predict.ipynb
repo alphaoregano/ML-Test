{
 "cells": [
  {
   "cell_type": "code",
   "execution_count": 1,
   "id": "b4e3aa96",
   "metadata": {},
   "outputs": [],
   "source": [
    "import joblib\n",
    "import pandas as pd"
   ]
  },
  {
   "cell_type": "code",
   "execution_count": 2,
   "id": "896a5eab",
   "metadata": {},
   "outputs": [
    {
     "name": "stdout",
     "output_type": "stream",
     "text": [
      "LinearRegression()\n"
     ]
    }
   ],
   "source": [
    "sav_model = joblib.load('mr_model.sav')\n",
    "print(sav_model)"
   ]
  },
  {
   "cell_type": "code",
   "execution_count": 3,
   "id": "ee97f04e",
   "metadata": {},
   "outputs": [],
   "source": [
    "surface = [15,132,187,45,12]\n",
    "rooms_new = [4,7,2,3,9]"
   ]
  },
  {
   "cell_type": "code",
   "execution_count": 4,
   "id": "a1a0ed41",
   "metadata": {},
   "outputs": [
    {
     "data": {
      "text/html": [
       "<div>\n",
       "<style scoped>\n",
       "    .dataframe tbody tr th:only-of-type {\n",
       "        vertical-align: middle;\n",
       "    }\n",
       "\n",
       "    .dataframe tbody tr th {\n",
       "        vertical-align: top;\n",
       "    }\n",
       "\n",
       "    .dataframe thead th {\n",
       "        text-align: right;\n",
       "    }\n",
       "</style>\n",
       "<table border=\"1\" class=\"dataframe\">\n",
       "  <thead>\n",
       "    <tr style=\"text-align: right;\">\n",
       "      <th></th>\n",
       "      <th>surface</th>\n",
       "      <th>rooms_new</th>\n",
       "    </tr>\n",
       "  </thead>\n",
       "  <tbody>\n",
       "    <tr>\n",
       "      <th>0</th>\n",
       "      <td>15</td>\n",
       "      <td>4</td>\n",
       "    </tr>\n",
       "    <tr>\n",
       "      <th>1</th>\n",
       "      <td>132</td>\n",
       "      <td>7</td>\n",
       "    </tr>\n",
       "    <tr>\n",
       "      <th>2</th>\n",
       "      <td>187</td>\n",
       "      <td>2</td>\n",
       "    </tr>\n",
       "    <tr>\n",
       "      <th>3</th>\n",
       "      <td>45</td>\n",
       "      <td>3</td>\n",
       "    </tr>\n",
       "    <tr>\n",
       "      <th>4</th>\n",
       "      <td>12</td>\n",
       "      <td>9</td>\n",
       "    </tr>\n",
       "  </tbody>\n",
       "</table>\n",
       "</div>"
      ],
      "text/plain": [
       "   surface  rooms_new\n",
       "0       15          4\n",
       "1      132          7\n",
       "2      187          2\n",
       "3       45          3\n",
       "4       12          9"
      ]
     },
     "execution_count": 4,
     "metadata": {},
     "output_type": "execute_result"
    }
   ],
   "source": [
    "raw_data = pd.DataFrame({'surface':surface,'rooms_new':rooms_new})\n",
    "raw_data"
   ]
  },
  {
   "cell_type": "code",
   "execution_count": 5,
   "id": "8c76a894",
   "metadata": {},
   "outputs": [
    {
     "data": {
      "text/plain": [
       "array([-182118.07660369,  666050.58611216, 1317363.50669309,\n",
       "        105078.98675399, -403926.10662896])"
      ]
     },
     "execution_count": 5,
     "metadata": {},
     "output_type": "execute_result"
    }
   ],
   "source": [
    "sav_model.predict(raw_data)"
   ]
  },
  {
   "cell_type": "code",
   "execution_count": null,
   "id": "689d4170",
   "metadata": {},
   "outputs": [],
   "source": []
  }
 ],
 "metadata": {
  "kernelspec": {
   "display_name": "Python 3 (ipykernel)",
   "language": "python",
   "name": "python3"
  },
  "language_info": {
   "codemirror_mode": {
    "name": "ipython",
    "version": 3
   },
   "file_extension": ".py",
   "mimetype": "text/x-python",
   "name": "python",
   "nbconvert_exporter": "python",
   "pygments_lexer": "ipython3",
   "version": "3.11.5"
  }
 },
 "nbformat": 4,
 "nbformat_minor": 5
}
